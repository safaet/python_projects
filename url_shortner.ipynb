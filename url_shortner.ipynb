{
  "nbformat": 4,
  "nbformat_minor": 0,
  "metadata": {
    "colab": {
      "provenance": [],
      "authorship_tag": "ABX9TyP7tAQ+kxrvzxHjccfjMo00",
      "include_colab_link": true
    },
    "kernelspec": {
      "name": "python3",
      "display_name": "Python 3"
    },
    "language_info": {
      "name": "python"
    }
  },
  "cells": [
    {
      "cell_type": "markdown",
      "metadata": {
        "id": "view-in-github",
        "colab_type": "text"
      },
      "source": [
        "<a href=\"https://colab.research.google.com/github/safaet/python_projects/blob/main/url_shortner.ipynb\" target=\"_parent\"><img src=\"https://colab.research.google.com/assets/colab-badge.svg\" alt=\"Open In Colab\"/></a>"
      ]
    },
    {
      "cell_type": "code",
      "execution_count": 5,
      "metadata": {
        "colab": {
          "base_uri": "https://localhost:8080/"
        },
        "id": "GeTKqvpPclow",
        "outputId": "b4ab870a-867b-4310-ce3a-d7ebb58990d6"
      },
      "outputs": [
        {
          "output_type": "stream",
          "name": "stdout",
          "text": [
            "Collecting pyshorteners\n",
            "  Downloading pyshorteners-1.0.1.tar.gz (10.0 kB)\n",
            "  Preparing metadata (setup.py) ... \u001b[?25l\u001b[?25hdone\n",
            "Requirement already satisfied: requests in /usr/local/lib/python3.10/dist-packages (from pyshorteners) (2.27.1)\n",
            "Requirement already satisfied: urllib3<1.27,>=1.21.1 in /usr/local/lib/python3.10/dist-packages (from requests->pyshorteners) (1.26.16)\n",
            "Requirement already satisfied: certifi>=2017.4.17 in /usr/local/lib/python3.10/dist-packages (from requests->pyshorteners) (2023.7.22)\n",
            "Requirement already satisfied: charset-normalizer~=2.0.0 in /usr/local/lib/python3.10/dist-packages (from requests->pyshorteners) (2.0.12)\n",
            "Requirement already satisfied: idna<4,>=2.5 in /usr/local/lib/python3.10/dist-packages (from requests->pyshorteners) (3.4)\n",
            "Building wheels for collected packages: pyshorteners\n",
            "  Building wheel for pyshorteners (setup.py) ... \u001b[?25l\u001b[?25hdone\n",
            "  Created wheel for pyshorteners: filename=pyshorteners-1.0.1-py3-none-any.whl size=17478 sha256=0acf92988ffc589084e728f2213428dcc6eac93e25de49688512b3b3baae525d\n",
            "  Stored in directory: /root/.cache/pip/wheels/d5/ff/b3/16d8906f92ab0b042f76a4696fcea11d291d79a2b3a3de1e78\n",
            "Successfully built pyshorteners\n",
            "Installing collected packages: pyshorteners\n",
            "Successfully installed pyshorteners-1.0.1\n"
          ]
        }
      ],
      "source": [
        "pip install pyshorteners"
      ]
    },
    {
      "cell_type": "code",
      "source": [
        "pip install pyperclip"
      ],
      "metadata": {
        "colab": {
          "base_uri": "https://localhost:8080/"
        },
        "id": "2LbxwcCycsOe",
        "outputId": "2e1e8c27-0731-4fbb-b0e2-54c4dd28b42c"
      },
      "execution_count": 6,
      "outputs": [
        {
          "output_type": "stream",
          "name": "stdout",
          "text": [
            "Collecting pyperclip\n",
            "  Downloading pyperclip-1.8.2.tar.gz (20 kB)\n",
            "  Preparing metadata (setup.py) ... \u001b[?25l\u001b[?25hdone\n",
            "Building wheels for collected packages: pyperclip\n",
            "  Building wheel for pyperclip (setup.py) ... \u001b[?25l\u001b[?25hdone\n",
            "  Created wheel for pyperclip: filename=pyperclip-1.8.2-py3-none-any.whl size=11123 sha256=97a171d5db0692030df3653fcf5eb3f4d26b44968f71201479c09ba6803d0a86\n",
            "  Stored in directory: /root/.cache/pip/wheels/04/24/fe/140a94a7f1036003ede94579e6b4227fe96c840c6f4dcbe307\n",
            "Successfully built pyperclip\n",
            "Installing collected packages: pyperclip\n",
            "Successfully installed pyperclip-1.8.2\n"
          ]
        }
      ]
    },
    {
      "cell_type": "code",
      "source": [
        "import pyshorteners"
      ],
      "metadata": {
        "id": "5z7w7Fdcc27d"
      },
      "execution_count": 7,
      "outputs": []
    },
    {
      "cell_type": "code",
      "source": [
        "url = input('Enter the url: ')\n",
        "\n",
        "\n",
        "def shortenurl(url):\n",
        "    s = pyshorteners.Shortener()\n",
        "    print(s.tinyurl.short(url))\n",
        "\n",
        "shortenurl(url)"
      ],
      "metadata": {
        "colab": {
          "base_uri": "https://localhost:8080/"
        },
        "id": "CbmhpT5XeQB_",
        "outputId": "84dc3187-402d-4f57-e7a7-672251c7cf49"
      },
      "execution_count": 8,
      "outputs": [
        {
          "output_type": "stream",
          "name": "stdout",
          "text": [
            "Enter the url: https://docs.google.com/spreadsheets/d/1kNo2kaFQED3C5I3SY-RY0RfQIKecKn16k990WMvS_Yc/edit?usp=sharing\n",
            "https://tinyurl.com/246dgmkp\n"
          ]
        }
      ]
    }
  ]
}